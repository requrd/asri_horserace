{
 "cells": [
  {
   "cell_type": "code",
   "execution_count": 12,
   "metadata": {},
   "outputs": [
    {
     "ename": "ModuleNotFoundError",
     "evalue": "No module named 'flask_sqlalchemy'",
     "output_type": "error",
     "traceback": [
      "\u001b[0;31m---------------------------------------------------------------------------\u001b[0m",
      "\u001b[0;31mModuleNotFoundError\u001b[0m                       Traceback (most recent call last)",
      "\u001b[0;32m<ipython-input-12-d7fa376c10bc>\u001b[0m in \u001b[0;36m<module>\u001b[0;34m\u001b[0m\n\u001b[0;32m----> 1\u001b[0;31m \u001b[0;32mfrom\u001b[0m \u001b[0mhorseview\u001b[0m\u001b[0;34m.\u001b[0m\u001b[0mhorsemodel\u001b[0m \u001b[0;32mimport\u001b[0m \u001b[0mKaisaiData\u001b[0m\u001b[0;34m\u001b[0m\u001b[0;34m\u001b[0m\u001b[0m\n\u001b[0m",
      "\u001b[0;32m/opt/lib/horseview/horsemodel.py\u001b[0m in \u001b[0;36m<module>\u001b[0;34m\u001b[0m\n\u001b[1;32m      1\u001b[0m \u001b[0;31m# テーブル一覧をインポートする\u001b[0m\u001b[0;34m\u001b[0m\u001b[0;34m\u001b[0m\u001b[0;34m\u001b[0m\u001b[0m\n\u001b[0;32m----> 2\u001b[0;31m \u001b[0;32mfrom\u001b[0m \u001b[0;34m.\u001b[0m\u001b[0mdomain\u001b[0m\u001b[0;34m.\u001b[0m\u001b[0mbangumi\u001b[0m \u001b[0;32mimport\u001b[0m \u001b[0mBangumiData\u001b[0m\u001b[0;34m\u001b[0m\u001b[0;34m\u001b[0m\u001b[0m\n\u001b[0m\u001b[1;32m      3\u001b[0m \u001b[0;32mfrom\u001b[0m \u001b[0;34m.\u001b[0m\u001b[0mdomain\u001b[0m\u001b[0;34m.\u001b[0m\u001b[0mindex\u001b[0m \u001b[0;32mimport\u001b[0m \u001b[0mHorseIndex\u001b[0m\u001b[0;34m,\u001b[0m \u001b[0mJockeyIndex\u001b[0m\u001b[0;34m,\u001b[0m \u001b[0mTrainerIndex\u001b[0m\u001b[0;34m,\u001b[0m \u001b[0mOikiriStateIndex\u001b[0m\u001b[0;34m,\u001b[0m \u001b[0mTrainCourseCodeIndex\u001b[0m\u001b[0;34m,\u001b[0m \u001b[0mHobokusakiIndex\u001b[0m\u001b[0;34m\u001b[0m\u001b[0;34m\u001b[0m\u001b[0m\n\u001b[1;32m      4\u001b[0m \u001b[0;32mfrom\u001b[0m \u001b[0;34m.\u001b[0m\u001b[0mdomain\u001b[0m\u001b[0;34m.\u001b[0m\u001b[0mkaisai\u001b[0m \u001b[0;32mimport\u001b[0m \u001b[0mKaisaiData\u001b[0m\u001b[0;34m\u001b[0m\u001b[0;34m\u001b[0m\u001b[0m\n\u001b[1;32m      5\u001b[0m \u001b[0;32mfrom\u001b[0m \u001b[0;34m.\u001b[0m\u001b[0mdomain\u001b[0m\u001b[0;34m.\u001b[0m\u001b[0mracehorse\u001b[0m \u001b[0;32mimport\u001b[0m \u001b[0mRacehorseData\u001b[0m\u001b[0;34m\u001b[0m\u001b[0;34m\u001b[0m\u001b[0m\n",
      "\u001b[0;32m/opt/lib/horseview/domain/bangumi.py\u001b[0m in \u001b[0;36m<module>\u001b[0;34m\u001b[0m\n\u001b[0;32m----> 1\u001b[0;31m \u001b[0;32mfrom\u001b[0m \u001b[0;34m.\u001b[0m\u001b[0;34m.\u001b[0m\u001b[0msessioncontroll\u001b[0m \u001b[0;32mimport\u001b[0m \u001b[0mbaseobj\u001b[0m\u001b[0;34m,\u001b[0m \u001b[0mstrobj\u001b[0m\u001b[0;34m,\u001b[0m \u001b[0mbaseobj\u001b[0m\u001b[0;34m,\u001b[0m \u001b[0mintobj\u001b[0m\u001b[0;34m,\u001b[0m \u001b[0mcolobj\u001b[0m\u001b[0;34m,\u001b[0m \u001b[0mrelobj\u001b[0m\u001b[0;34m,\u001b[0m \u001b[0mfkyobj\u001b[0m\u001b[0;34m,\u001b[0m \u001b[0mbkrobj\u001b[0m\u001b[0;34m\u001b[0m\u001b[0;34m\u001b[0m\u001b[0m\n\u001b[0m\u001b[1;32m      2\u001b[0m \u001b[0;34m\u001b[0m\u001b[0m\n\u001b[1;32m      3\u001b[0m \u001b[0;34m\u001b[0m\u001b[0m\n\u001b[1;32m      4\u001b[0m \u001b[0;32mclass\u001b[0m \u001b[0mBangumiData\u001b[0m\u001b[0;34m(\u001b[0m\u001b[0mbaseobj\u001b[0m\u001b[0;34m)\u001b[0m\u001b[0;34m:\u001b[0m\u001b[0;34m\u001b[0m\u001b[0;34m\u001b[0m\u001b[0m\n\u001b[1;32m      5\u001b[0m     \u001b[0m__tablename__\u001b[0m \u001b[0;34m=\u001b[0m \u001b[0;34m'bangumi'\u001b[0m\u001b[0;34m\u001b[0m\u001b[0;34m\u001b[0m\u001b[0m\n",
      "\u001b[0;32m/opt/lib/horseview/sessioncontroll.py\u001b[0m in \u001b[0;36m<module>\u001b[0;34m\u001b[0m\n\u001b[1;32m      1\u001b[0m \u001b[0;32mfrom\u001b[0m \u001b[0mflask\u001b[0m \u001b[0;32mimport\u001b[0m \u001b[0mFlask\u001b[0m\u001b[0;34m\u001b[0m\u001b[0;34m\u001b[0m\u001b[0m\n\u001b[0;32m----> 2\u001b[0;31m \u001b[0;32mfrom\u001b[0m \u001b[0mflask_sqlalchemy\u001b[0m \u001b[0;32mimport\u001b[0m \u001b[0mSQLAlchemy\u001b[0m\u001b[0;34m\u001b[0m\u001b[0;34m\u001b[0m\u001b[0m\n\u001b[0m\u001b[1;32m      3\u001b[0m \u001b[0;32mfrom\u001b[0m \u001b[0mflask_restless\u001b[0m \u001b[0;32mimport\u001b[0m \u001b[0mAPIManager\u001b[0m\u001b[0;34m\u001b[0m\u001b[0;34m\u001b[0m\u001b[0m\n\u001b[1;32m      4\u001b[0m \u001b[0;32mfrom\u001b[0m \u001b[0mflask_migrate\u001b[0m \u001b[0;32mimport\u001b[0m \u001b[0mMigrate\u001b[0m\u001b[0;34m,\u001b[0m \u001b[0mMigrateCommand\u001b[0m\u001b[0;34m\u001b[0m\u001b[0;34m\u001b[0m\u001b[0m\n\u001b[1;32m      5\u001b[0m \u001b[0;32mimport\u001b[0m \u001b[0mos\u001b[0m\u001b[0;34m\u001b[0m\u001b[0;34m\u001b[0m\u001b[0m\n",
      "\u001b[0;31mModuleNotFoundError\u001b[0m: No module named 'flask_sqlalchemy'"
     ]
    }
   ],
   "source": [
    "from horseview.horsemodel import KaisaiData"
   ]
  },
  {
   "cell_type": "code",
   "execution_count": 2,
   "metadata": {},
   "outputs": [
    {
     "name": "stdout",
     "output_type": "stream",
     "text": [
      "MPLBACKEND=module://ipykernel.pylab.backend_inline\n",
      "HOSTNAME=0b73d6e6c74c\n",
      "LD_LIBRARY_PATH=/usr/local/nvidia/lib:/usr/local/nvidia/lib64\n",
      "HOME=/root\n",
      "PAGER=cat\n",
      "CUDA_VERSION=10.0.130\n",
      "DB=/code\n",
      "NVIDIA_REQUIRE_CUDA=cuda>=10.0 brand=tesla,driver>=384,driver<385 brand=tesla,driver>=410,driver<411\n",
      "NVIDIA_DRIVER_CAPABILITIES=compute,utility\n",
      "TERM=xterm-color\n",
      "PATH=/opt/conda/bin:/usr/local/nvidia/bin:/usr/local/cuda/bin:/usr/local/sbin:/usr/local/bin:/usr/sbin:/usr/bin:/sbin:/bin\n",
      "CUDA_PKG_VERSION=10-0=10.0.130-1\n",
      "KERNEL_LAUNCH_TIMEOUT=40\n",
      "CUDNN_VERSION=7.6.0.64\n",
      "GIT_PAGER=cat\n",
      "CLICOLOR=1\n",
      "PWD=/code\n",
      "JPY_PARENT_PID=1\n",
      "PYTHONPATH=/opt/lib\n",
      "NVIDIA_VISIBLE_DEVICES=all\n",
      "NCCL_VERSION=2.4.2\n"
     ]
    }
   ],
   "source": [
    "!env"
   ]
  },
  {
   "cell_type": "code",
   "execution_count": 10,
   "metadata": {},
   "outputs": [
    {
     "name": "stdout",
     "output_type": "stream",
     "text": [
      "horseview\n"
     ]
    }
   ],
   "source": [
    "!ls $PYTHONPATH"
   ]
  },
  {
   "cell_type": "code",
   "execution_count": 8,
   "metadata": {},
   "outputs": [],
   "source": [
    "!mkdir $PYTHONPATH/horseview"
   ]
  },
  {
   "cell_type": "code",
   "execution_count": 9,
   "metadata": {},
   "outputs": [
    {
     "name": "stdout",
     "output_type": "stream",
     "text": [
      "mv: cannot move '/opt/lib/horseview' to a subdirectory of itself, '/opt/lib/horseview/horseview'\n"
     ]
    }
   ],
   "source": [
    "!mv $PYTHONPATH/* $PYTHONPATH/horseview"
   ]
  },
  {
   "cell_type": "code",
   "execution_count": null,
   "metadata": {},
   "outputs": [],
   "source": []
  }
 ],
 "metadata": {
  "kernelspec": {
   "display_name": "Python 3",
   "language": "python",
   "name": "python3"
  },
  "language_info": {
   "codemirror_mode": {
    "name": "ipython",
    "version": 3
   },
   "file_extension": ".py",
   "mimetype": "text/x-python",
   "name": "python",
   "nbconvert_exporter": "python",
   "pygments_lexer": "ipython3",
   "version": "3.6.8"
  }
 },
 "nbformat": 4,
 "nbformat_minor": 4
}
